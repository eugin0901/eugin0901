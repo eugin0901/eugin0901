{
  "nbformat": 4,
  "nbformat_minor": 0,
  "metadata": {
    "colab": {
      "provenance": [],
      "authorship_tag": "ABX9TyOql8se6kiw/KoXOuQlkwZ0",
      "include_colab_link": true
    },
    "kernelspec": {
      "name": "python3",
      "display_name": "Python 3"
    },
    "language_info": {
      "name": "python"
    }
  },
  "cells": [
    {
      "cell_type": "markdown",
      "metadata": {
        "id": "view-in-github",
        "colab_type": "text"
      },
      "source": [
        "<a href=\"https://colab.research.google.com/github/eugin0901/eugin0901/blob/main/17%2B17.ipynb\" target=\"_parent\"><img src=\"https://colab.research.google.com/assets/colab-badge.svg\" alt=\"Open In Colab\"/></a>"
      ]
    },
    {
      "cell_type": "code",
      "execution_count": 1,
      "metadata": {
        "colab": {
          "base_uri": "https://localhost:8080/"
        },
        "id": "JIeQp1VkNTS4",
        "outputId": "fca4633c-ba3e-401b-dff9-4ef52385cff1"
      },
      "outputs": [
        {
          "output_type": "stream",
          "name": "stdout",
          "text": [
            "Requirement already satisfied: pandas in /usr/local/lib/python3.11/dist-packages (2.2.2)\n",
            "Requirement already satisfied: scikit-learn in /usr/local/lib/python3.11/dist-packages (1.6.1)\n",
            "Requirement already satisfied: openpyxl in /usr/local/lib/python3.11/dist-packages (3.1.5)\n",
            "Collecting pyLDAvis\n",
            "  Downloading pyLDAvis-3.4.1-py3-none-any.whl.metadata (4.2 kB)\n",
            "Requirement already satisfied: numpy in /usr/local/lib/python3.11/dist-packages (1.26.4)\n",
            "Requirement already satisfied: python-dateutil>=2.8.2 in /usr/local/lib/python3.11/dist-packages (from pandas) (2.8.2)\n",
            "Requirement already satisfied: pytz>=2020.1 in /usr/local/lib/python3.11/dist-packages (from pandas) (2024.2)\n",
            "Requirement already satisfied: tzdata>=2022.7 in /usr/local/lib/python3.11/dist-packages (from pandas) (2025.1)\n",
            "Requirement already satisfied: scipy>=1.6.0 in /usr/local/lib/python3.11/dist-packages (from scikit-learn) (1.13.1)\n",
            "Requirement already satisfied: joblib>=1.2.0 in /usr/local/lib/python3.11/dist-packages (from scikit-learn) (1.4.2)\n",
            "Requirement already satisfied: threadpoolctl>=3.1.0 in /usr/local/lib/python3.11/dist-packages (from scikit-learn) (3.5.0)\n",
            "Requirement already satisfied: et-xmlfile in /usr/local/lib/python3.11/dist-packages (from openpyxl) (2.0.0)\n",
            "Requirement already satisfied: jinja2 in /usr/local/lib/python3.11/dist-packages (from pyLDAvis) (3.1.5)\n",
            "Requirement already satisfied: numexpr in /usr/local/lib/python3.11/dist-packages (from pyLDAvis) (2.10.2)\n",
            "Collecting funcy (from pyLDAvis)\n",
            "  Downloading funcy-2.0-py2.py3-none-any.whl.metadata (5.9 kB)\n",
            "Requirement already satisfied: gensim in /usr/local/lib/python3.11/dist-packages (from pyLDAvis) (4.3.3)\n",
            "Requirement already satisfied: setuptools in /usr/local/lib/python3.11/dist-packages (from pyLDAvis) (75.1.0)\n",
            "Requirement already satisfied: six>=1.5 in /usr/local/lib/python3.11/dist-packages (from python-dateutil>=2.8.2->pandas) (1.17.0)\n",
            "Requirement already satisfied: smart-open>=1.8.1 in /usr/local/lib/python3.11/dist-packages (from gensim->pyLDAvis) (7.1.0)\n",
            "Requirement already satisfied: MarkupSafe>=2.0 in /usr/local/lib/python3.11/dist-packages (from jinja2->pyLDAvis) (3.0.2)\n",
            "Requirement already satisfied: wrapt in /usr/local/lib/python3.11/dist-packages (from smart-open>=1.8.1->gensim->pyLDAvis) (1.17.2)\n",
            "Downloading pyLDAvis-3.4.1-py3-none-any.whl (2.6 MB)\n",
            "\u001b[2K   \u001b[90m━━━━━━━━━━━━━━━━━━━━━━━━━━━━━━━━━━━━━━━━\u001b[0m \u001b[32m2.6/2.6 MB\u001b[0m \u001b[31m10.0 MB/s\u001b[0m eta \u001b[36m0:00:00\u001b[0m\n",
            "\u001b[?25hDownloading funcy-2.0-py2.py3-none-any.whl (30 kB)\n",
            "Installing collected packages: funcy, pyLDAvis\n",
            "Successfully installed funcy-2.0 pyLDAvis-3.4.1\n"
          ]
        }
      ],
      "source": [
        "!pip install pandas scikit-learn openpyxl pyLDAvis numpy"
      ]
    },
    {
      "cell_type": "code",
      "source": [
        "# 필요한 라이브러리 설치 및 불러오기\n",
        "import pandas as pd\n",
        "from sklearn.feature_extraction.text import CountVectorizer\n",
        "from sklearn.decomposition import LatentDirichletAllocation\n",
        "import re\n",
        "import pyLDAvis\n",
        "import os\n",
        "\n",
        "# pyLDAvis 시각화 저장 경로 설정\n",
        "output_dir = \"lda_visualizations\"\n",
        "os.makedirs(output_dir, exist_ok=True)"
      ],
      "metadata": {
        "colab": {
          "base_uri": "https://localhost:8080/"
        },
        "id": "8nl-zF27NtHo",
        "outputId": "ca4d1ee0-75bc-4538-dfb0-18251c77e17c"
      },
      "execution_count": 3,
      "outputs": [
        {
          "output_type": "stream",
          "name": "stderr",
          "text": [
            "/usr/local/lib/python3.11/dist-packages/ipykernel/ipkernel.py:283: DeprecationWarning: `should_run_async` will not call `transform_cell` automatically in the future. Please pass the result to `transformed_cell` argument and any exception that happen during thetransform in `preprocessing_exc_tuple` in IPython 7.17 and above.\n",
            "  and should_run_async(code)\n"
          ]
        }
      ]
    },
    {
      "cell_type": "code",
      "source": [
        "# 데이터 로드\n",
        "data = pd.read_excel(\"final_datalist.xlsx\", engine=\"openpyxl\")\n",
        "\n",
        "# 시기 분류 함수\n",
        "def classify_period(date):\n",
        "    if pd.isnull(date):\n",
        "        return \"알 수 없음\"\n",
        "    elif date.year <= 2014:\n",
        "        return \"1기\"\n",
        "    elif date.year <= 2019:\n",
        "        return \"2기\"\n",
        "    else:\n",
        "        return \"3기\""
      ],
      "metadata": {
        "colab": {
          "base_uri": "https://localhost:8080/"
        },
        "id": "eob4BfEtN1Un",
        "outputId": "8d17d7e1-2bc3-4077-e594-f9b835b2508c"
      },
      "execution_count": 5,
      "outputs": [
        {
          "output_type": "stream",
          "name": "stderr",
          "text": [
            "/usr/local/lib/python3.11/dist-packages/ipykernel/ipkernel.py:283: DeprecationWarning: `should_run_async` will not call `transform_cell` automatically in the future. Please pass the result to `transformed_cell` argument and any exception that happen during thetransform in `preprocessing_exc_tuple` in IPython 7.17 and above.\n",
            "  and should_run_async(code)\n"
          ]
        }
      ]
    },
    {
      "cell_type": "code",
      "source": [
        "# 날짜 열을 datetime 형식으로 변환\n",
        "data['일자'] = pd.to_datetime(data['일자'], format='%Y%m%d', errors='coerce')\n",
        "\n",
        "# 시기 분류 열 추가\n",
        "data['시기'] = data['일자'].apply(classify_period)\n",
        "\n",
        "# 통합 텍스트 생성\n",
        "data['통합 텍스트'] = data['키워드'].fillna('') + ' ' + data['특성추출(가중치순 상위 50개)'].fillna('')"
      ],
      "metadata": {
        "colab": {
          "base_uri": "https://localhost:8080/"
        },
        "id": "gZH_wb24N99H",
        "outputId": "60a8aa72-19ed-4c65-a128-7637be89521e"
      },
      "execution_count": 6,
      "outputs": [
        {
          "output_type": "stream",
          "name": "stderr",
          "text": [
            "/usr/local/lib/python3.11/dist-packages/ipykernel/ipkernel.py:283: DeprecationWarning: `should_run_async` will not call `transform_cell` automatically in the future. Please pass the result to `transformed_cell` argument and any exception that happen during thetransform in `preprocessing_exc_tuple` in IPython 7.17 and above.\n",
            "  and should_run_async(code)\n"
          ]
        }
      ]
    },
    {
      "cell_type": "code",
      "source": [
        "# 전처리 함수 정의\n",
        "def preprocess_text(text):\n",
        "    try:\n",
        "        # 한글만 남기고 정규화\n",
        "        text = re.sub(r'[^가-힣\\s,]', '', text)  # 쉼표(,)는 유지\n",
        "        # 쉼표를 기준으로 분리\n",
        "        words = text.split(',')  # 쉼표 기준으로 분리\n",
        "        # 두 글자 이상의 단어만 추출\n",
        "        words = [word.strip() for word in words if len(word.strip()) > 1]  # 공백 제거 후 길이 체크\n",
        "        return ' '.join(words)  # 다시 문자열로 반환 (단어들을 공백으로 연결)\n",
        "    except Exception as e:\n",
        "        print(f\"전처리 중 오류 발생: {e}, 입력 데이터: {text}\")\n",
        "        return ''\n",
        "\n",
        "# 전처리된 텍스트 생성\n",
        "data['전처리된 텍스트'] = data['통합 텍스트'].apply(preprocess_text)\n",
        "\n",
        "# 시기별 데이터 분할\n",
        "periods = {\n",
        "    \"1기\": data[data['시기'] == \"1기\"],\n",
        "    \"2기\": data[data['시기'] == \"2기\"],\n",
        "    \"3기\": data[data['시기'] == \"3기\"]\n",
        "}\n",
        "\n",
        "# 각 시기별 데이터 크기 확인\n",
        "for period, df in periods.items():\n",
        "    print(f\"{period} 데이터 개수: {len(df)}\")"
      ],
      "metadata": {
        "colab": {
          "base_uri": "https://localhost:8080/"
        },
        "id": "TpKnmmuLOApH",
        "outputId": "2abe919b-055e-482a-f313-c054446ca851"
      },
      "execution_count": 7,
      "outputs": [
        {
          "output_type": "stream",
          "name": "stderr",
          "text": [
            "/usr/local/lib/python3.11/dist-packages/ipykernel/ipkernel.py:283: DeprecationWarning: `should_run_async` will not call `transform_cell` automatically in the future. Please pass the result to `transformed_cell` argument and any exception that happen during thetransform in `preprocessing_exc_tuple` in IPython 7.17 and above.\n",
            "  and should_run_async(code)\n"
          ]
        },
        {
          "output_type": "stream",
          "name": "stdout",
          "text": [
            "1기 데이터 개수: 117\n",
            "2기 데이터 개수: 364\n",
            "3기 데이터 개수: 887\n"
          ]
        }
      ]
    },
    {
      "cell_type": "code",
      "source": [
        "# 한국어 불용어 리스트 (필요에 따라 확장 가능)\n",
        "korean_stopwords = [\n",
        "    \"이\", \"그\", \"저\", \"것\", \"수\", \"등\", \"들\", \"및\", \"에서\", \"그리고\", \"하지만\", \"또한\", \"를\", \"은\", \"는\", \"에\", \"의\", \"와\", \"과\", \"로\", \"으로\", \"하다\"\n",
        "]\n",
        "\n",
        "# LDA 모델링 함수 수정\n",
        "def lda_topic_modeling(texts, n_topics=3, n_words=10):\n",
        "    \"\"\"\n",
        "    LDA 토픽 모델링 함수\n",
        "    - texts: 전처리된 텍스트 리스트\n",
        "    - n_topics: 추출할 토픽 수\n",
        "    - n_words: 각 토픽에서 출력할 단어 수\n",
        "    \"\"\"\n",
        "    vectorizer = CountVectorizer(\n",
        "        max_df=0.95,\n",
        "        min_df=2,\n",
        "        stop_words=korean_stopwords  # 한국어 불용어 적용\n",
        "    )\n",
        "    dtm = vectorizer.fit_transform(texts)  # 문서-단어 행렬 생성\n",
        "\n",
        "    lda = LatentDirichletAllocation(n_components=n_topics, random_state=42)  # LDA 모델\n",
        "    lda.fit(dtm)\n",
        "\n",
        "    # 토픽별 주요 단어 출력\n",
        "    words = vectorizer.get_feature_names_out()\n",
        "    topics = {}\n",
        "    for topic_idx, topic in enumerate(lda.components_):\n",
        "        topics[f\"Topic {topic_idx+1}\"] = [words[i] for i in topic.argsort()[:-n_words - 1:-1]]\n",
        "\n",
        "    return topics, lda, dtm, vectorizer\n",
        "\n",
        "\n"
      ],
      "metadata": {
        "colab": {
          "base_uri": "https://localhost:8080/"
        },
        "id": "N4IPlWZROEk3",
        "outputId": "a17ffd15-1f8b-4c91-b878-05ee2ae70df6"
      },
      "execution_count": 28,
      "outputs": [
        {
          "output_type": "stream",
          "name": "stderr",
          "text": [
            "/usr/local/lib/python3.11/dist-packages/ipykernel/ipkernel.py:283: DeprecationWarning: `should_run_async` will not call `transform_cell` automatically in the future. Please pass the result to `transformed_cell` argument and any exception that happen during thetransform in `preprocessing_exc_tuple` in IPython 7.17 and above.\n",
            "  and should_run_async(code)\n"
          ]
        }
      ]
    },
    {
      "cell_type": "code",
      "source": [
        "!pip install konlpy"
      ],
      "metadata": {
        "colab": {
          "base_uri": "https://localhost:8080/"
        },
        "id": "Tq3nUPH_OlsI",
        "outputId": "c238e7df-1b2d-4e16-9ccd-5e97ed781f87"
      },
      "execution_count": 29,
      "outputs": [
        {
          "output_type": "stream",
          "name": "stderr",
          "text": [
            "/usr/local/lib/python3.11/dist-packages/ipykernel/ipkernel.py:283: DeprecationWarning: `should_run_async` will not call `transform_cell` automatically in the future. Please pass the result to `transformed_cell` argument and any exception that happen during thetransform in `preprocessing_exc_tuple` in IPython 7.17 and above.\n",
            "  and should_run_async(code)\n"
          ]
        },
        {
          "output_type": "stream",
          "name": "stdout",
          "text": [
            "Requirement already satisfied: konlpy in /usr/local/lib/python3.11/dist-packages (0.6.0)\n",
            "Requirement already satisfied: JPype1>=0.7.0 in /usr/local/lib/python3.11/dist-packages (from konlpy) (1.5.2)\n",
            "Requirement already satisfied: lxml>=4.1.0 in /usr/local/lib/python3.11/dist-packages (from konlpy) (5.3.0)\n",
            "Requirement already satisfied: numpy>=1.6 in /usr/local/lib/python3.11/dist-packages (from konlpy) (1.26.4)\n",
            "Requirement already satisfied: packaging in /usr/local/lib/python3.11/dist-packages (from JPype1>=0.7.0->konlpy) (24.2)\n"
          ]
        }
      ]
    },
    {
      "cell_type": "code",
      "source": [
        "# 시기별 LDA 실행\n",
        "lda_results = {}\n",
        "for period, df in periods.items():\n",
        "    print(f\"\\n===== {period} =====\")\n",
        "    topics, lda_model, dtm, vectorizer = lda_topic_modeling(df['전처리된 텍스트'], n_topics=3, n_words=10)\n",
        "    lda_results[period] = (topics, lda_model, dtm, vectorizer)\n",
        "    for topic, words in topics.items():\n",
        "        print(f\"{topic}: {', '.join(words)}\")\n",
        "\n",
        "# 토픽 간 유사도 비교 함수\n",
        "def compare_topics(topic_words_1, topic_words_2):\n",
        "    \"\"\"\n",
        "    두 시기의 토픽 단어를 비교하여 유사도를 계산\n",
        "    - topic_words_1, topic_words_2: 각 시기의 토픽 단어 리스트\n",
        "    \"\"\"\n",
        "    common_words = set(topic_words_1).intersection(set(topic_words_2))\n",
        "    return len(common_words) / len(set(topic_words_1).union(set(topic_words_2)))\n",
        "\n",
        "# Hot-Cold 트렌드 분석\n",
        "print(\"\\n===== Hot-Cold 트렌드 분석 =====\")\n",
        "previous_period = None\n",
        "for period, (topics, _, _, _) in lda_results.items():\n",
        "    if previous_period:\n",
        "        print(f\"\\n{previous_period} -> {period} 변화:\")\n",
        "        for topic_idx, words in enumerate(topics.values()):\n",
        "            similarities = [\n",
        "                compare_topics(words, prev_words)\n",
        "                for prev_words in lda_results[previous_period][0].values()\n",
        "            ]\n",
        "            max_similarity = max(similarities)\n",
        "            print(f\"  Topic {topic_idx+1} 유사도: {max_similarity:.2f} (이전 시기와 비교)\")\n",
        "    previous_period = period"
      ],
      "metadata": {
        "colab": {
          "base_uri": "https://localhost:8080/"
        },
        "id": "2f_0It_CO6-f",
        "outputId": "632f0bac-08cf-4cf3-98df-a9192d11d8e3"
      },
      "execution_count": 30,
      "outputs": [
        {
          "output_type": "stream",
          "name": "stderr",
          "text": [
            "/usr/local/lib/python3.11/dist-packages/ipykernel/ipkernel.py:283: DeprecationWarning: `should_run_async` will not call `transform_cell` automatically in the future. Please pass the result to `transformed_cell` argument and any exception that happen during thetransform in `preprocessing_exc_tuple` in IPython 7.17 and above.\n",
            "  and should_run_async(code)\n"
          ]
        },
        {
          "output_type": "stream",
          "name": "stdout",
          "text": [
            "\n",
            "===== 1기 =====\n",
            "Topic 1: 치과, 디지털, 장비, 바텍, 제품, 대표, 시장, 기업, 기기, 의료\n",
            "Topic 2: 치과, 산업, 임플란트, 사업, 의료, 디오, 기업, 디지털, 시장, 지원\n",
            "Topic 3: 임플란트, 치아, 치료, 치과, 환자, 시술, 병원, 수술, 원장, 가능\n",
            "\n",
            "===== 2기 =====\n",
            "Topic 1: 시장, 매출, 중국, 덴티움, 치의학, 매출액, 디지털, 치과, 대비, 레이\n",
            "Topic 2: 치과, 디지털, 임플란트, 기업, 시장, 제품, 오스템임플란트, 대표, 의료, 덴티스트리\n",
            "Topic 3: 임플란트, 치아, 환자, 치료, 치과, 디지털, 수술, 시술, 제작, 교정\n",
            "\n",
            "===== 3기 =====\n",
            "Topic 1: 투자, 기업, 인수, 메디트, 시장, 글로벌, 펀드, 사업, 산업, 지원\n",
            "Topic 2: 시장, 중국, 매출, 오스템임플란트, 레이, 실적, 성장, 대비, 매출액, 임플란트\n",
            "Topic 3: 치과, 임플란트, 디지털, 치료, 치아, 환자, 수술, 교정, 구강, 의료\n",
            "\n",
            "===== Hot-Cold 트렌드 분석 =====\n",
            "\n",
            "1기 -> 2기 변화:\n",
            "  Topic 1 유사도: 0.18 (이전 시기와 비교)\n",
            "  Topic 2 유사도: 0.54 (이전 시기와 비교)\n",
            "  Topic 3 유사도: 0.54 (이전 시기와 비교)\n",
            "\n",
            "2기 -> 3기 변화:\n",
            "  Topic 1 유사도: 0.11 (이전 시기와 비교)\n",
            "  Topic 2 유사도: 0.43 (이전 시기와 비교)\n",
            "  Topic 3 유사도: 0.67 (이전 시기와 비교)\n"
          ]
        }
      ]
    }
  ]
}