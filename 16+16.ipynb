{
  "nbformat": 4,
  "nbformat_minor": 0,
  "metadata": {
    "colab": {
      "provenance": [],
      "toc_visible": true,
      "authorship_tag": "ABX9TyOL+C53WLHetSeNMlg9rQDY",
      "include_colab_link": true
    },
    "kernelspec": {
      "name": "python3",
      "display_name": "Python 3"
    },
    "language_info": {
      "name": "python"
    }
  },
  "cells": [
    {
      "cell_type": "markdown",
      "metadata": {
        "id": "view-in-github",
        "colab_type": "text"
      },
      "source": [
        "<a href=\"https://colab.research.google.com/github/eugin0901/eugin0901/blob/main/16%2B16.ipynb\" target=\"_parent\"><img src=\"https://colab.research.google.com/assets/colab-badge.svg\" alt=\"Open In Colab\"/></a>"
      ]
    },
    {
      "cell_type": "code",
      "execution_count": 2,
      "metadata": {
        "id": "dgd_zFDfABN_",
        "colab": {
          "base_uri": "https://localhost:8080/"
        },
        "outputId": "01ec0333-0cf9-4d81-d44b-683a029bb64d"
      },
      "outputs": [
        {
          "output_type": "stream",
          "name": "stdout",
          "text": [
            "Requirement already satisfied: pandas in /usr/local/lib/python3.11/dist-packages (2.2.2)\n",
            "Requirement already satisfied: numpy>=1.23.2 in /usr/local/lib/python3.11/dist-packages (from pandas) (1.26.4)\n",
            "Requirement already satisfied: python-dateutil>=2.8.2 in /usr/local/lib/python3.11/dist-packages (from pandas) (2.8.2)\n",
            "Requirement already satisfied: pytz>=2020.1 in /usr/local/lib/python3.11/dist-packages (from pandas) (2024.2)\n",
            "Requirement already satisfied: tzdata>=2022.7 in /usr/local/lib/python3.11/dist-packages (from pandas) (2025.1)\n",
            "Requirement already satisfied: six>=1.5 in /usr/local/lib/python3.11/dist-packages (from python-dateutil>=2.8.2->pandas) (1.17.0)\n"
          ]
        }
      ],
      "source": [
        "pip install pandas"
      ]
    },
    {
      "cell_type": "code",
      "source": [
        "pip install scikit-learn"
      ],
      "metadata": {
        "colab": {
          "base_uri": "https://localhost:8080/"
        },
        "id": "dOL3Ycgb5iHM",
        "outputId": "4704d994-62ff-4813-890c-6b4d99e22698"
      },
      "execution_count": 3,
      "outputs": [
        {
          "output_type": "stream",
          "name": "stdout",
          "text": [
            "Requirement already satisfied: scikit-learn in /usr/local/lib/python3.11/dist-packages (1.6.1)\n",
            "Requirement already satisfied: numpy>=1.19.5 in /usr/local/lib/python3.11/dist-packages (from scikit-learn) (1.26.4)\n",
            "Requirement already satisfied: scipy>=1.6.0 in /usr/local/lib/python3.11/dist-packages (from scikit-learn) (1.13.1)\n",
            "Requirement already satisfied: joblib>=1.2.0 in /usr/local/lib/python3.11/dist-packages (from scikit-learn) (1.4.2)\n",
            "Requirement already satisfied: threadpoolctl>=3.1.0 in /usr/local/lib/python3.11/dist-packages (from scikit-learn) (3.5.0)\n"
          ]
        }
      ]
    },
    {
      "cell_type": "code",
      "source": [
        "pip install openpyxl"
      ],
      "metadata": {
        "colab": {
          "base_uri": "https://localhost:8080/"
        },
        "id": "AribQm115kTE",
        "outputId": "92eb2ea4-8e51-4a92-f2a6-56c111007577"
      },
      "execution_count": 4,
      "outputs": [
        {
          "output_type": "stream",
          "name": "stdout",
          "text": [
            "Requirement already satisfied: openpyxl in /usr/local/lib/python3.11/dist-packages (3.1.5)\n",
            "Requirement already satisfied: et-xmlfile in /usr/local/lib/python3.11/dist-packages (from openpyxl) (2.0.0)\n"
          ]
        }
      ]
    },
    {
      "cell_type": "code",
      "source": [
        "pip install soynlp kiwipiepy"
      ],
      "metadata": {
        "colab": {
          "base_uri": "https://localhost:8080/"
        },
        "id": "wDnzW5c-5nlL",
        "outputId": "77849a81-986a-4cef-958a-d912a4e5fa22"
      },
      "execution_count": 5,
      "outputs": [
        {
          "output_type": "stream",
          "name": "stdout",
          "text": [
            "Collecting soynlp\n",
            "  Downloading soynlp-0.0.493-py3-none-any.whl.metadata (24 kB)\n",
            "Collecting kiwipiepy\n",
            "  Downloading kiwipiepy-0.20.3-cp311-cp311-manylinux_2_17_x86_64.manylinux2014_x86_64.whl.metadata (1.1 kB)\n",
            "Requirement already satisfied: numpy>=1.12.1 in /usr/local/lib/python3.11/dist-packages (from soynlp) (1.26.4)\n",
            "Requirement already satisfied: psutil>=5.0.1 in /usr/local/lib/python3.11/dist-packages (from soynlp) (5.9.5)\n",
            "Requirement already satisfied: scipy>=1.1.0 in /usr/local/lib/python3.11/dist-packages (from soynlp) (1.13.1)\n",
            "Requirement already satisfied: scikit-learn>=0.20.0 in /usr/local/lib/python3.11/dist-packages (from soynlp) (1.6.1)\n",
            "Collecting kiwipiepy_model<0.21,>=0.20 (from kiwipiepy)\n",
            "  Downloading kiwipiepy_model-0.20.0.tar.gz (34.7 MB)\n",
            "\u001b[2K     \u001b[90m━━━━━━━━━━━━━━━━━━━━━━━━━━━━━━━━━━━━━━━━\u001b[0m \u001b[32m34.7/34.7 MB\u001b[0m \u001b[31m36.8 MB/s\u001b[0m eta \u001b[36m0:00:00\u001b[0m\n",
            "\u001b[?25h  Preparing metadata (setup.py) ... \u001b[?25l\u001b[?25hdone\n",
            "Requirement already satisfied: tqdm in /usr/local/lib/python3.11/dist-packages (from kiwipiepy) (4.67.1)\n",
            "Requirement already satisfied: joblib>=1.2.0 in /usr/local/lib/python3.11/dist-packages (from scikit-learn>=0.20.0->soynlp) (1.4.2)\n",
            "Requirement already satisfied: threadpoolctl>=3.1.0 in /usr/local/lib/python3.11/dist-packages (from scikit-learn>=0.20.0->soynlp) (3.5.0)\n",
            "Downloading soynlp-0.0.493-py3-none-any.whl (416 kB)\n",
            "\u001b[2K   \u001b[90m━━━━━━━━━━━━━━━━━━━━━━━━━━━━━━━━━━━━━━━━\u001b[0m \u001b[32m416.8/416.8 kB\u001b[0m \u001b[31m26.5 MB/s\u001b[0m eta \u001b[36m0:00:00\u001b[0m\n",
            "\u001b[?25hDownloading kiwipiepy-0.20.3-cp311-cp311-manylinux_2_17_x86_64.manylinux2014_x86_64.whl (3.6 MB)\n",
            "\u001b[2K   \u001b[90m━━━━━━━━━━━━━━━━━━━━━━━━━━━━━━━━━━━━━━━━\u001b[0m \u001b[32m3.6/3.6 MB\u001b[0m \u001b[31m79.3 MB/s\u001b[0m eta \u001b[36m0:00:00\u001b[0m\n",
            "\u001b[?25hBuilding wheels for collected packages: kiwipiepy_model\n",
            "  Building wheel for kiwipiepy_model (setup.py) ... \u001b[?25l\u001b[?25hdone\n",
            "  Created wheel for kiwipiepy_model: filename=kiwipiepy_model-0.20.0-py3-none-any.whl size=34818026 sha256=b0793784077e842870f171c9654ee2824931ded06f173f352dd3b4f1be6bee7f\n",
            "  Stored in directory: /root/.cache/pip/wheels/ca/c8/52/3a539d6e9065b191fe1c215e0203dcc3e00601c0e3d3d39824\n",
            "Successfully built kiwipiepy_model\n",
            "Installing collected packages: kiwipiepy_model, kiwipiepy, soynlp\n",
            "Successfully installed kiwipiepy-0.20.3 kiwipiepy_model-0.20.0 soynlp-0.0.493\n"
          ]
        }
      ]
    },
    {
      "cell_type": "code",
      "source": [
        "# 필요한 라이브러리 설치 및 불러오기\n",
        "import pandas as pd\n",
        "from sklearn.feature_extraction.text import CountVectorizer\n",
        "from sklearn.decomposition import LatentDirichletAllocation\n",
        "import re"
      ],
      "metadata": {
        "id": "EnLpikq95uIr"
      },
      "execution_count": 6,
      "outputs": []
    },
    {
      "cell_type": "code",
      "source": [
        "# 데이터 로드\n",
        "data = pd.read_excel(\"final_datalist.xlsx\")"
      ],
      "metadata": {
        "id": "FSFrRDDW5xJk"
      },
      "execution_count": 8,
      "outputs": []
    },
    {
      "cell_type": "code",
      "source": [
        "# 시기 분류 함수\n",
        "def classify_period(date):\n",
        "    if pd.isnull(date):\n",
        "        return \"알 수 없음\"\n",
        "    elif date.year <= 2014:\n",
        "        return \"1기\"\n",
        "    elif date.year <= 2019:\n",
        "        return \"2기\"\n",
        "    else:\n",
        "        return \"3기\"\n",
        "\n",
        "# 날짜 열을 datetime 형식으로 변환\n",
        "data['일자'] = pd.to_datetime(data['일자'], format='%Y%m%d', errors='coerce')\n",
        "\n",
        "# 시기 분류 열 추가\n",
        "data['시기'] = data['일자'].apply(classify_period)"
      ],
      "metadata": {
        "id": "qsCFykgY52TL"
      },
      "execution_count": 10,
      "outputs": []
    },
    {
      "cell_type": "code",
      "source": [
        "# 통합 텍스트 생성\n",
        "data['통합 텍스트'] = data['키워드'].fillna('') + ' ' + data['특성추출(가중치순 상위 50개)'].fillna('')"
      ],
      "metadata": {
        "id": "p-3k9BG856C0"
      },
      "execution_count": 11,
      "outputs": []
    },
    {
      "cell_type": "code",
      "source": [
        "# 전처리 함수 정의\n",
        "def preprocess_text(text):\n",
        "    try:\n",
        "        # 한글만 남기고 정규화\n",
        "        text = re.sub(r'[^가-힣\\s,]', '', text)  # 쉼표(,)는 유지\n",
        "        # 쉼표를 기준으로 분리\n",
        "        words = text.split(',')  # 쉼표 기준으로 분리\n",
        "        # 두 글자 이상의 단어만 추출\n",
        "        words = [word.strip() for word in words if len(word.strip()) > 1]  # 공백 제거 후 길이 체크\n",
        "        return ' '.join(words)  # 다시 문자열로 반환 (단어들을 공백으로 연결)\n",
        "    except Exception as e:\n",
        "        print(f\"전처리 중 오류 발생: {e}, 입력 데이터: {text}\")\n",
        "        return ''\n",
        "\n",
        "# 전처리된 텍스트 생성\n",
        "data['전처리된 텍스트'] = data['통합 텍스트'].apply(preprocess_text)"
      ],
      "metadata": {
        "id": "LBlOweNf59tT"
      },
      "execution_count": 26,
      "outputs": []
    },
    {
      "cell_type": "code",
      "source": [
        "# 시기별 데이터 분할\n",
        "periods = {\n",
        "    \"1기\": data[data['시기'] == \"1기\"],\n",
        "    \"2기\": data[data['시기'] == \"2기\"],\n",
        "    \"3기\": data[data['시기'] == \"3기\"]\n",
        "}\n",
        "\n",
        "# 각 시기별 데이터 크기 확인\n",
        "for period, df in periods.items():\n",
        "    print(f\"{period} 데이터 개수: {len(df)}\")"
      ],
      "metadata": {
        "colab": {
          "base_uri": "https://localhost:8080/"
        },
        "id": "9Xqo9N9J5-pb",
        "outputId": "f8554555-5a87-4117-f330-2c2999bf4120"
      },
      "execution_count": 27,
      "outputs": [
        {
          "output_type": "stream",
          "name": "stdout",
          "text": [
            "1기 데이터 개수: 117\n",
            "2기 데이터 개수: 364\n",
            "3기 데이터 개수: 887\n"
          ]
        }
      ]
    },
    {
      "cell_type": "code",
      "source": [
        "# LDA 실행 함수 정의\n",
        "def run_lda(period_name, df, num_topics=3):\n",
        "    print(f\"\\n[{period_name}] LDA 실행 중...\")\n",
        "\n",
        "    # 전처리된 텍스트 추출\n",
        "    texts = df['전처리된 텍스트'].tolist()\n",
        "\n",
        "    # 빈 텍스트 제거\n",
        "    texts = [text for text in texts if text.strip()]\n",
        "    if len(texts) == 0:\n",
        "        print(f\"[{period_name}] 전처리된 텍스트가 없습니다. LDA 실행을 건너뜁니다.\")\n",
        "        return None, None, None\n",
        "\n",
        "    # Bag of Words 모델 생성\n",
        "    vectorizer = CountVectorizer(max_df=1.0, min_df=1)  # min_df와 max_df 조정\n",
        "    dtm = vectorizer.fit_transform(texts)\n",
        "\n",
        "    # LDA 모델 훈련\n",
        "    lda_model = LatentDirichletAllocation(n_components=num_topics, random_state=42)\n",
        "    lda_model.fit(dtm)\n",
        "\n",
        "    # 토픽 출력\n",
        "    feature_names = vectorizer.get_feature_names_out()\n",
        "    for topic_idx, topic in enumerate(lda_model.components_):\n",
        "        print(f\"토픽 {topic_idx + 1}:\")\n",
        "        print(\" \".join([feature_names[i] for i in topic.argsort()[:-11:-1]]))\n",
        "\n",
        "    return lda_model, dtm, vectorizer\n",
        "\n",
        "# 시기별로 LDA 실행 및 결과 저장\n",
        "lda_results = {}\n",
        "for period, df in periods.items():\n",
        "    if len(df) > 0:  # 데이터가 있는 경우에만 실행\n",
        "        lda_results[period] = run_lda(period, df)"
      ],
      "metadata": {
        "colab": {
          "base_uri": "https://localhost:8080/"
        },
        "id": "BWu5OxQF6EX7",
        "outputId": "cd76db14-4166-4cbe-e842-72dd48979d8b"
      },
      "execution_count": 33,
      "outputs": [
        {
          "output_type": "stream",
          "name": "stdout",
          "text": [
            "\n",
            "[1기] LDA 실행 중...\n",
            "토픽 1:\n",
            "치과 산업 디지털 기업 지원 의료 바텍 시장 융합 대표\n",
            "토픽 2:\n",
            "임플란트 치아 치과 치료 환자 수술 시술 원장 보철물 가능\n",
            "토픽 3:\n",
            "치과 의료 디오 장비 디지털 시장 병원 대표 제품 임플란트\n",
            "\n",
            "[2기] LDA 실행 중...\n",
            "토픽 1:\n",
            "임플란트 디지털 치아 환자 시술 치료 수술 치과 교정 진행\n",
            "토픽 2:\n",
            "치과 디지털 산업 의료 치의학 기업 제품 시장 세계 제작\n",
            "토픽 3:\n",
            "시장 임플란트 오스템임플란트 중국 매출 치과 디지털 제품 성장 덴티움\n",
            "\n",
            "[3기] LDA 실행 중...\n",
            "토픽 1:\n",
            "임플란트 치아 치료 디지털 수술 환자 구강 교정 치과 식립\n",
            "토픽 2:\n",
            "시장 투자 인수 기업 매출 중국 메디트 실적 대비 성장\n",
            "토픽 3:\n",
            "치과 디지털 시장 임플란트 기업 의료 제품 솔루션 대표 오스템임플란트\n"
          ]
        }
      ]
    },
    {
      "cell_type": "code",
      "source": [
        "# 시기별로 LDA 실행 및 결과 저장\n",
        "lda_results = {}\n",
        "for period, df in periods.items():\n",
        "    if len(df) > 0:  # 데이터가 있는 경우에만 실행\n",
        "        lda_results[period] = run_lda(period, df)\n",
        "\n",
        "# 주요 토픽별 문서 수 확인\n",
        "for period, (lda_model, dtm, vectorizer) in lda_results.items():\n",
        "    print(f\"\\n[{period}] 주요 토픽별 문서 수:\")\n",
        "    topic_assignments = lda_model.transform(dtm).argmax(axis=1)  # 각 문서의 가장 높은 확률을 가진 토픽 번호\n",
        "    topic_counts = pd.Series(topic_assignments).value_counts()  # 토픽별 문서 수 계산\n",
        "    print(topic_counts)\n",
        "\n",
        "    # 각 문서에 토픽 번호 추가 (데이터프레임에 열 추가)\n",
        "    periods[period]['토픽 번호'] = topic_assignments\n",
        "\n",
        "# 주요 토픽별 문서 수를 포함한 데이터를 엑셀로 저장\n",
        "def save_to_excel(periods, output_file=\"lda_results.xlsx\"):\n",
        "    with pd.ExcelWriter(output_file, engine='openpyxl') as writer:\n",
        "        for period, df in periods.items():\n",
        "            if len(df) > 0:  # 데이터가 있는 경우에만 저장\n",
        "                df.to_excel(writer, sheet_name=period, index=False)  # 시트 이름은 시기 이름\n",
        "                print(f\"[{period}] 데이터 저장 완료.\")\n",
        "    print(f\"모든 데이터를 {output_file}에 저장 완료.\")\n",
        "\n",
        "# 엑셀 저장 실행\n",
        "output_file = \"lda_results202501292056.xlsx\"\n",
        "save_to_excel(periods, output_file=output_file)"
      ],
      "metadata": {
        "colab": {
          "base_uri": "https://localhost:8080/"
        },
        "id": "3Yb3VSWw6FSj",
        "outputId": "19df7e28-640c-4328-dba1-d92c652c0e47"
      },
      "execution_count": 36,
      "outputs": [
        {
          "output_type": "stream",
          "name": "stdout",
          "text": [
            "\n",
            "[1기] LDA 실행 중...\n",
            "토픽 1:\n",
            "치과 산업 디지털 기업 지원 의료 바텍 시장 융합 대표\n",
            "토픽 2:\n",
            "임플란트 치아 치과 치료 환자 수술 시술 원장 보철물 가능\n",
            "토픽 3:\n",
            "치과 의료 디오 장비 디지털 시장 병원 대표 제품 임플란트\n",
            "\n",
            "[2기] LDA 실행 중...\n",
            "토픽 1:\n",
            "임플란트 디지털 치아 환자 시술 치료 수술 치과 교정 진행\n",
            "토픽 2:\n",
            "치과 디지털 산업 의료 치의학 기업 제품 시장 세계 제작\n",
            "토픽 3:\n",
            "시장 임플란트 오스템임플란트 중국 매출 치과 디지털 제품 성장 덴티움\n",
            "\n",
            "[3기] LDA 실행 중...\n",
            "토픽 1:\n",
            "임플란트 치아 치료 디지털 수술 환자 구강 교정 치과 식립\n",
            "토픽 2:\n",
            "시장 투자 인수 기업 매출 중국 메디트 실적 대비 성장\n",
            "토픽 3:\n",
            "치과 디지털 시장 임플란트 기업 의료 제품 솔루션 대표 오스템임플란트\n",
            "\n",
            "[1기] 주요 토픽별 문서 수:\n",
            "1    49\n",
            "2    42\n",
            "0    26\n",
            "Name: count, dtype: int64\n",
            "\n",
            "[2기] 주요 토픽별 문서 수:\n",
            "2    134\n",
            "1    117\n",
            "0    113\n",
            "Name: count, dtype: int64\n",
            "\n",
            "[3기] 주요 토픽별 문서 수:\n"
          ]
        },
        {
          "output_type": "stream",
          "name": "stderr",
          "text": [
            "<ipython-input-36-2eaf72554b9f>:15: SettingWithCopyWarning: \n",
            "A value is trying to be set on a copy of a slice from a DataFrame.\n",
            "Try using .loc[row_indexer,col_indexer] = value instead\n",
            "\n",
            "See the caveats in the documentation: https://pandas.pydata.org/pandas-docs/stable/user_guide/indexing.html#returning-a-view-versus-a-copy\n",
            "  periods[period]['토픽 번호'] = topic_assignments\n",
            "<ipython-input-36-2eaf72554b9f>:15: SettingWithCopyWarning: \n",
            "A value is trying to be set on a copy of a slice from a DataFrame.\n",
            "Try using .loc[row_indexer,col_indexer] = value instead\n",
            "\n",
            "See the caveats in the documentation: https://pandas.pydata.org/pandas-docs/stable/user_guide/indexing.html#returning-a-view-versus-a-copy\n",
            "  periods[period]['토픽 번호'] = topic_assignments\n"
          ]
        },
        {
          "output_type": "stream",
          "name": "stdout",
          "text": [
            "2    389\n",
            "1    368\n",
            "0    130\n",
            "Name: count, dtype: int64\n",
            "[1기] 데이터 저장 완료.\n",
            "[2기] 데이터 저장 완료.\n"
          ]
        },
        {
          "output_type": "stream",
          "name": "stderr",
          "text": [
            "<ipython-input-36-2eaf72554b9f>:15: SettingWithCopyWarning: \n",
            "A value is trying to be set on a copy of a slice from a DataFrame.\n",
            "Try using .loc[row_indexer,col_indexer] = value instead\n",
            "\n",
            "See the caveats in the documentation: https://pandas.pydata.org/pandas-docs/stable/user_guide/indexing.html#returning-a-view-versus-a-copy\n",
            "  periods[period]['토픽 번호'] = topic_assignments\n"
          ]
        },
        {
          "output_type": "stream",
          "name": "stdout",
          "text": [
            "[3기] 데이터 저장 완료.\n",
            "모든 데이터를 lda_results202501292056.xlsx에 저장 완료.\n"
          ]
        }
      ]
    },
    {
      "cell_type": "code",
      "source": [
        "# 토픽별 주요 단어 출력 함수\n",
        "def print_topics(model, vectorizer, top_n=10):\n",
        "    feature_names = vectorizer.get_feature_names_out()  # 단어 목록 추출\n",
        "    for topic_idx, topic in enumerate(model.components_):\n",
        "        print(f\"\\n토픽 {topic_idx + 1}:\")\n",
        "        print(\" \".join([feature_names[i] for i in topic.argsort()[:-top_n - 1:-1]]))\n",
        "\n",
        "# LDA 모델 실행 후 토픽 출력\n",
        "print('1기')\n",
        "lda_model, dtm, vectorizer = lda_results['1기']  # 예: '1기' 데이터\n",
        "print_topics(lda_model, vectorizer, top_n=10)\n",
        "\n",
        "\n",
        "# LDA 모델 실행 후 토픽 출력\n",
        "print('2기')\n",
        "lda_model, dtm, vectorizer = lda_results['2기']  # 예: '2기' 데이터\n",
        "print_topics(lda_model, vectorizer, top_n=10)\n",
        "\n",
        "# LDA 모델 실행 후 토픽 출력\n",
        "print('3기')\n",
        "lda_model, dtm, vectorizer = lda_results['3기']  # 예: '3기' 데이터\n",
        "print_topics(lda_model, vectorizer, top_n=10)"
      ],
      "metadata": {
        "colab": {
          "base_uri": "https://localhost:8080/"
        },
        "id": "LJxG4W6y7q0r",
        "outputId": "2537c594-d060-4b5f-93db-8bada0ef653c"
      },
      "execution_count": 37,
      "outputs": [
        {
          "output_type": "stream",
          "name": "stdout",
          "text": [
            "1기\n",
            "\n",
            "토픽 1:\n",
            "치과 산업 디지털 기업 지원 의료 바텍 시장 융합 대표\n",
            "\n",
            "토픽 2:\n",
            "임플란트 치아 치과 치료 환자 수술 시술 원장 보철물 가능\n",
            "\n",
            "토픽 3:\n",
            "치과 의료 디오 장비 디지털 시장 병원 대표 제품 임플란트\n",
            "2기\n",
            "\n",
            "토픽 1:\n",
            "임플란트 디지털 치아 환자 시술 치료 수술 치과 교정 진행\n",
            "\n",
            "토픽 2:\n",
            "치과 디지털 산업 의료 치의학 기업 제품 시장 세계 제작\n",
            "\n",
            "토픽 3:\n",
            "시장 임플란트 오스템임플란트 중국 매출 치과 디지털 제품 성장 덴티움\n",
            "3기\n",
            "\n",
            "토픽 1:\n",
            "임플란트 치아 치료 디지털 수술 환자 구강 교정 치과 식립\n",
            "\n",
            "토픽 2:\n",
            "시장 투자 인수 기업 매출 중국 메디트 실적 대비 성장\n",
            "\n",
            "토픽 3:\n",
            "치과 디지털 시장 임플란트 기업 의료 제품 솔루션 대표 오스템임플란트\n"
          ]
        }
      ]
    },
    {
      "cell_type": "code",
      "source": [
        "!pip install --upgrade pyLDAvis"
      ],
      "metadata": {
        "colab": {
          "base_uri": "https://localhost:8080/"
        },
        "id": "E_ghfobsDRPt",
        "outputId": "90959fd7-f63a-4ae6-eeec-4e812c582634"
      },
      "execution_count": 49,
      "outputs": [
        {
          "output_type": "stream",
          "name": "stderr",
          "text": [
            "/usr/local/lib/python3.11/dist-packages/ipykernel/ipkernel.py:283: DeprecationWarning: `should_run_async` will not call `transform_cell` automatically in the future. Please pass the result to `transformed_cell` argument and any exception that happen during thetransform in `preprocessing_exc_tuple` in IPython 7.17 and above.\n",
            "  and should_run_async(code)\n"
          ]
        },
        {
          "output_type": "stream",
          "name": "stdout",
          "text": [
            "Requirement already satisfied: pyLDAvis in /usr/local/lib/python3.11/dist-packages (3.4.1)\n",
            "Requirement already satisfied: numpy>=1.24.2 in /usr/local/lib/python3.11/dist-packages (from pyLDAvis) (1.26.4)\n",
            "Requirement already satisfied: scipy in /usr/local/lib/python3.11/dist-packages (from pyLDAvis) (1.13.1)\n",
            "Requirement already satisfied: pandas>=2.0.0 in /usr/local/lib/python3.11/dist-packages (from pyLDAvis) (2.2.2)\n",
            "Requirement already satisfied: joblib>=1.2.0 in /usr/local/lib/python3.11/dist-packages (from pyLDAvis) (1.4.2)\n",
            "Requirement already satisfied: jinja2 in /usr/local/lib/python3.11/dist-packages (from pyLDAvis) (3.1.5)\n",
            "Requirement already satisfied: numexpr in /usr/local/lib/python3.11/dist-packages (from pyLDAvis) (2.10.2)\n",
            "Requirement already satisfied: funcy in /usr/local/lib/python3.11/dist-packages (from pyLDAvis) (2.0)\n",
            "Requirement already satisfied: scikit-learn>=1.0.0 in /usr/local/lib/python3.11/dist-packages (from pyLDAvis) (1.6.1)\n",
            "Requirement already satisfied: gensim in /usr/local/lib/python3.11/dist-packages (from pyLDAvis) (4.3.3)\n",
            "Requirement already satisfied: setuptools in /usr/local/lib/python3.11/dist-packages (from pyLDAvis) (75.1.0)\n",
            "Requirement already satisfied: python-dateutil>=2.8.2 in /usr/local/lib/python3.11/dist-packages (from pandas>=2.0.0->pyLDAvis) (2.8.2)\n",
            "Requirement already satisfied: pytz>=2020.1 in /usr/local/lib/python3.11/dist-packages (from pandas>=2.0.0->pyLDAvis) (2024.2)\n",
            "Requirement already satisfied: tzdata>=2022.7 in /usr/local/lib/python3.11/dist-packages (from pandas>=2.0.0->pyLDAvis) (2025.1)\n",
            "Requirement already satisfied: threadpoolctl>=3.1.0 in /usr/local/lib/python3.11/dist-packages (from scikit-learn>=1.0.0->pyLDAvis) (3.5.0)\n",
            "Requirement already satisfied: smart-open>=1.8.1 in /usr/local/lib/python3.11/dist-packages (from gensim->pyLDAvis) (7.1.0)\n",
            "Requirement already satisfied: MarkupSafe>=2.0 in /usr/local/lib/python3.11/dist-packages (from jinja2->pyLDAvis) (3.0.2)\n",
            "Requirement already satisfied: six>=1.5 in /usr/local/lib/python3.11/dist-packages (from python-dateutil>=2.8.2->pandas>=2.0.0->pyLDAvis) (1.17.0)\n",
            "Requirement already satisfied: wrapt in /usr/local/lib/python3.11/dist-packages (from smart-open>=1.8.1->gensim->pyLDAvis) (1.17.2)\n"
          ]
        }
      ]
    },
    {
      "cell_type": "code",
      "source": [
        "import pyLDAvis\n",
        "import os\n",
        "\n",
        "# 시각화 결과를 저장할 디렉토리 생성\n",
        "output_dir = \"lda_visualizations\"\n",
        "os.makedirs(output_dir, exist_ok=True)  # 디렉토리가 없으면 생성\n",
        "\n",
        "# 시각화 및 HTML 저장 함수\n",
        "def visualize_lda(lda_model, dtm, vectorizer, period_name):\n",
        "    try:\n",
        "        # pyLDAvis 준비\n",
        "        vis = pyLDAvis.prepare(\n",
        "            topic_term_dists=lda_model.components_,\n",
        "            doc_topic_dists=lda_model.transform(dtm),\n",
        "            doc_lengths=[sum(doc) for doc in dtm.toarray()],\n",
        "            vocab=vectorizer.get_feature_names_out(),\n",
        "            term_frequency=dtm.toarray().sum(axis=0),\n",
        "            mds='tsne'\n",
        "        )\n",
        "\n",
        "        # HTML 파일 저장 경로\n",
        "        html_file = os.path.join(output_dir, f\"{period_name}_lda_visualization.html\")\n",
        "\n",
        "        # HTML 저장\n",
        "        pyLDAvis.save_html(vis, html_file)\n",
        "        print(f\"[{period_name}] LDA 시각화 결과를 {html_file}에 저장했습니다.\")\n",
        "    except Exception as e:\n",
        "        print(f\"[{period_name}] 시각화 중 오류 발생: {e}\")\n",
        "\n",
        "# 시기별로 LDA 시각화 실행 및 저장\n",
        "for period, result in lda_results.items():\n",
        "    if result is not None:\n",
        "        lda_model, dtm, vectorizer = result\n",
        "        visualize_lda(lda_model, dtm, vectorizer, period)\n",
        "\n"
      ],
      "metadata": {
        "colab": {
          "base_uri": "https://localhost:8080/"
        },
        "id": "S4ClkLaQDOs-",
        "outputId": "b98d1068-7005-468b-88d7-e2ab492ed1e0"
      },
      "execution_count": 53,
      "outputs": [
        {
          "output_type": "stream",
          "name": "stderr",
          "text": [
            "/usr/local/lib/python3.11/dist-packages/ipykernel/ipkernel.py:283: DeprecationWarning: `should_run_async` will not call `transform_cell` automatically in the future. Please pass the result to `transformed_cell` argument and any exception that happen during thetransform in `preprocessing_exc_tuple` in IPython 7.17 and above.\n",
            "  and should_run_async(code)\n"
          ]
        },
        {
          "output_type": "stream",
          "name": "stdout",
          "text": [
            "[1기] LDA 시각화 결과를 lda_visualizations/1기_lda_visualization.html에 저장했습니다.\n",
            "[2기] LDA 시각화 결과를 lda_visualizations/2기_lda_visualization.html에 저장했습니다.\n",
            "[3기] LDA 시각화 결과를 lda_visualizations/3기_lda_visualization.html에 저장했습니다.\n"
          ]
        }
      ]
    }
  ]
}